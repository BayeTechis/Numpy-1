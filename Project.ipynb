{
  "nbformat": 4,
  "nbformat_minor": 0,
  "metadata": {
    "colab": {
      "name": "Project.ipynb",
      "provenance": [],
      "collapsed_sections": []
    },
    "kernelspec": {
      "name": "python3",
      "display_name": "Python 3"
    },
    "language_info": {
      "name": "python"
    }
  },
  "cells": [
    {
      "cell_type": "markdown",
      "source": [
        "**Project on Numpy **\n",
        "\n",
        "Student Name: **Baye Asmamaw**\n",
        "\n",
        "email_id: **baymusbet@gmail.com**"
      ],
      "metadata": {
        "id": "0a_7_FlnH0Jb"
      }
    },
    {
      "cell_type": "markdown",
      "source": [
        "**Mounting Google drive**"
      ],
      "metadata": {
        "id": "QUQQ9-jOItbe"
      }
    },
    {
      "cell_type": "code",
      "source": [
        "from google.colab import drive \n",
        "drive.mount('/content/drive')"
      ],
      "metadata": {
        "id": "989unopkXEYf",
        "colab": {
          "base_uri": "https://localhost:8080/"
        },
        "outputId": "938b5880-9d7f-4725-cf7c-415a1b6f8f43"
      },
      "execution_count": 2,
      "outputs": [
        {
          "output_type": "stream",
          "name": "stdout",
          "text": [
            "Mounted at /content/drive\n"
          ]
        }
      ]
    },
    {
      "cell_type": "markdown",
      "source": [
        "**Importing data**"
      ],
      "metadata": {
        "id": "K_CwQYoycNem"
      }
    },
    {
      "cell_type": "code",
      "source": [
        "import numpy as np\n",
        "\n",
        "data = np.genfromtxt(\"/content/drive/MyDrive/Colab Notebooks/KAG_Conversion_Data.csv\", delimiter =\",\", skip_header=1)\n",
        "print(\"\\nType of data: \\n\\n\", data)\n",
        "data_str = np.genfromtxt(\"/content/drive/MyDrive/Colab Notebooks/KAG_Conversion_Data.csv\", dtype = 'str', delimiter =\",\", skip_header=1)"
      ],
      "metadata": {
        "id": "GKjXC7CvGXmv",
        "colab": {
          "base_uri": "https://localhost:8080/"
        },
        "outputId": "6ac471b4-cddb-457d-cfef-949ab4eb954a"
      },
      "execution_count": 94,
      "outputs": [
        {
          "output_type": "stream",
          "name": "stdout",
          "text": [
            "\n",
            "Type of data: \n",
            "\n",
            " [[7.08746000e+05 9.16000000e+02 1.03916000e+05 ... 1.42999995e+00\n",
            "  2.00000000e+00 1.00000000e+00]\n",
            " [7.08749000e+05 9.16000000e+02 1.03917000e+05 ... 1.82000002e+00\n",
            "  2.00000000e+00 0.00000000e+00]\n",
            " [7.08771000e+05 9.16000000e+02 1.03920000e+05 ... 0.00000000e+00\n",
            "  1.00000000e+00 0.00000000e+00]\n",
            " ...\n",
            " [1.31441200e+06 1.17800000e+03 1.79979000e+05 ... 4.02899995e+01\n",
            "  2.00000000e+00 0.00000000e+00]\n",
            " [1.31441400e+06 1.17800000e+03 1.79981000e+05 ... 1.98710001e+02\n",
            "  8.00000000e+00 2.00000000e+00]\n",
            " [1.31441500e+06 1.17800000e+03 1.79982000e+05 ... 1.65609999e+02\n",
            "  5.00000000e+00 2.00000000e+00]]\n"
          ]
        }
      ]
    },
    {
      "cell_type": "markdown",
      "source": [
        "**Checking shape and dimention of data**"
      ],
      "metadata": {
        "id": "a83vS5urc25j"
      }
    },
    {
      "cell_type": "code",
      "source": [
        "print(\"---------------------------------------------------\")\n",
        "print(\"The shape of the data is: \", data.shape)\n",
        "print(\"---------------------------------------------------\")\n",
        "print(\"The dimesion of the data is: \",data.ndim)"
      ],
      "metadata": {
        "colab": {
          "base_uri": "https://localhost:8080/"
        },
        "id": "E5VVfElec84_",
        "outputId": "eafa58fd-eec1-493b-8ad7-f69736852647"
      },
      "execution_count": 127,
      "outputs": [
        {
          "output_type": "stream",
          "name": "stdout",
          "text": [
            "---------------------------------------------------\n",
            "The shape of the data is:  (1143, 11)\n",
            "---------------------------------------------------\n",
            "The dimesion of the data is:  2\n"
          ]
        }
      ]
    },
    {
      "cell_type": "markdown",
      "source": [
        "**Number of unique ads**"
      ],
      "metadata": {
        "id": "fyCiOnr-dXpq"
      }
    },
    {
      "cell_type": "code",
      "source": [
        "ads_array = data[:,1]\n",
        "unique_ads = np.unique(ads_array)\n",
        "print(\"---------------------------------------------------\")\n",
        "print(\"Number of unique ads: \", len(unique_ads))"
      ],
      "metadata": {
        "colab": {
          "base_uri": "https://localhost:8080/"
        },
        "id": "wlY-iGjQdf42",
        "outputId": "8d2eaf32-dcd0-43b7-816d-748c1f3ca274"
      },
      "execution_count": 125,
      "outputs": [
        {
          "output_type": "stream",
          "name": "stdout",
          "text": [
            "---------------------------------------------------\n",
            "Number of unique ads:  3\n"
          ]
        }
      ]
    },
    {
      "cell_type": "markdown",
      "source": [
        "**Number of runs for each campaign**"
      ],
      "metadata": {
        "id": "bWpnFL0S0F-L"
      }
    },
    {
      "cell_type": "code",
      "source": [
        "num_each_ad_run = np.array(np.unique(ads_array, return_counts=True))\n",
        "tot_ad_1 = num_each_ad_run[1,0]\n",
        "tot_ad_2 = num_each_ad_run[1,1]\n",
        "tot_ad_3 = num_each_ad_run[1,2]\n",
        "print(\"---------------------------------------------------\")\n",
        "print(f\"Total number of ads by first company (xyz_campany_id = {num_each_ad_run[0,0]}): \", tot_ad_1)\n",
        "print(\"---------------------------------------------------\")\n",
        "print(f\"Total number of ads by second company (xyz_campany_id = {num_each_ad_run[0,1]}): \", tot_ad_2)\n",
        "print(\"---------------------------------------------------\")\n",
        "print(f\"Total number of ads by third  company (xyz_campany_id = {num_each_ad_run[0,2]}): \", tot_ad_3)"
      ],
      "metadata": {
        "colab": {
          "base_uri": "https://localhost:8080/"
        },
        "id": "PTqg0FNi0R6F",
        "outputId": "ea86f1b5-edf0-40f7-f746-41b03f9abb98"
      },
      "execution_count": 124,
      "outputs": [
        {
          "output_type": "stream",
          "name": "stdout",
          "text": [
            "---------------------------------------------------\n",
            "Total number of ads by first company (xyz_campany_id = 916.0):  54.0\n",
            "---------------------------------------------------\n",
            "Total number of ads by second company (xyz_campany_id = 936.0):  464.0\n",
            "---------------------------------------------------\n",
            "Total number of ads by third  company (xyz_campany_id = 1178.0):  625.0\n"
          ]
        }
      ]
    },
    {
      "cell_type": "markdown",
      "source": [
        "**Age groups targeted by campaigns**\n",
        "\n"
      ],
      "metadata": {
        "id": "XvqxujLY6DqO"
      }
    },
    {
      "cell_type": "code",
      "source": [
        "age = data_str[:,3]\n",
        "targeted_age_groups = np.unique(age)\n",
        "print(\"---------------------------------------------------\")\n",
        "print(\" Age groups targeted by compaigns: \", targeted_age_groups)\n"
      ],
      "metadata": {
        "colab": {
          "base_uri": "https://localhost:8080/"
        },
        "id": "9_ZXWo9C6Rvr",
        "outputId": "e15bec3c-6f66-4031-f8ff-42ca3a442dd3"
      },
      "execution_count": 123,
      "outputs": [
        {
          "output_type": "stream",
          "name": "stdout",
          "text": [
            "---------------------------------------------------\n",
            " Age groups targeted by compaigns:  ['30-34' '35-39' '40-44' '45-49']\n"
          ]
        }
      ]
    },
    {
      "cell_type": "markdown",
      "source": [
        "**Amount Spend on ads**"
      ],
      "metadata": {
        "id": "XPk6b14aUR5d"
      }
    },
    {
      "cell_type": "code",
      "source": [
        "amount_spent = data[:,8]\n",
        "id = data[:,0]\n",
        "id_admax = id[amount_spent == max(amount_spent)]\n",
        "print(\"---------------------------------------------------\")\n",
        "print(\"Average amount spent on ads: \", np.mean(amount_spent))\n",
        "print(\"---------------------------------------------------\")\n",
        "print(\"The maximum amount spent is: \", max(amount_spent))\n",
        "print(\"---------------------------------------------------\")\n",
        "print(\"The minimum amount spent is: \", min(amount_spent))"
      ],
      "metadata": {
        "colab": {
          "base_uri": "https://localhost:8080/"
        },
        "id": "Pd_vB1ppUWjR",
        "outputId": "3bfe880a-03f2-4a5d-9ff2-60692b6cf89b"
      },
      "execution_count": 121,
      "outputs": [
        {
          "output_type": "stream",
          "name": "stdout",
          "text": [
            "---------------------------------------------------\n",
            "Average amount spent on ads:  51.36065613141295\n",
            "---------------------------------------------------\n",
            "The maximum amount spent is:  639.9499981\n",
            "---------------------------------------------------\n",
            "The minimum amount spent is:  0.0\n"
          ]
        }
      ]
    },
    {
      "cell_type": "markdown",
      "source": [
        "**Maximum number of clicks**"
      ],
      "metadata": {
        "id": "9n5lEiwkmvD8"
      }
    },
    {
      "cell_type": "code",
      "source": [
        "number_clicks= data[:,7]\n",
        "id = data[:,0]\n",
        "id_clickmax = id[number_clicks == max(number_clicks)]\n",
        "print(\"---------------------------------------------------\")\n",
        "print(\"Id of ad with maximum clicks:  \", int(id_clickmax))"
      ],
      "metadata": {
        "colab": {
          "base_uri": "https://localhost:8080/"
        },
        "outputId": "5b069ece-8f64-498b-9099-f070a8bd3ca2",
        "id": "0kX4DrdPmDS8"
      },
      "execution_count": 119,
      "outputs": [
        {
          "output_type": "stream",
          "name": "stdout",
          "text": [
            "---------------------------------------------------\n",
            "Id of ad with maximum clicks:   1121814\n"
          ]
        }
      ]
    },
    {
      "cell_type": "markdown",
      "source": [
        "**Purchase Analysis**"
      ],
      "metadata": {
        "id": "wvYwpbFpod73"
      }
    },
    {
      "cell_type": "code",
      "source": [
        "purchase= data[:,10]\n",
        "num_at_maxpurchase = purchase[number_clicks == max(number_clicks)]\n",
        "purchase_max = int(max(purchase))\n",
        "print(\"---------------------------------------------------\")\n",
        "print(\"Number of people that puchase item with maximum clicks:  \", int(num_at_maxpurchase))\n",
        "print(\"---------------------------------------------------\")\n",
        "print('Maximum number of purchases:', purchase_max)\n",
        "if num_at_maxpurchase == purchase_max:\n",
        "  print(\"---------------------------------------------------\")\n",
        "  print(\"Ad with maximum number of clicks attracted many customers\")\n",
        "else:\n",
        "  print(\"---------------------------------------------------\")\n",
        "  print(\"ATTENTION:  Ad with maximum number of clicks DID NOT attracted maximum number of customers\")\n"
      ],
      "metadata": {
        "colab": {
          "base_uri": "https://localhost:8080/"
        },
        "id": "_Onm8aHQonRM",
        "outputId": "5831add1-d634-4e08-fa57-d991f7c3e71f"
      },
      "execution_count": 118,
      "outputs": [
        {
          "output_type": "stream",
          "name": "stdout",
          "text": [
            "---------------------------------------------------\n",
            "Number of people that puchase item with maximum clicks:   13\n",
            "---------------------------------------------------\n",
            "Maximum number of purchases: 21\n",
            "---------------------------------------------------\n",
            "ATTENTION:  Ad with maximum number of clicks DID NOT attracted maximum number of customers\n"
          ]
        }
      ]
    },
    {
      "cell_type": "markdown",
      "source": [
        "**Details of product with maximum number of purchases**"
      ],
      "metadata": {
        "id": "yocxMfM3rjMY"
      }
    },
    {
      "cell_type": "code",
      "source": [
        "xyz_campany_id = data[:,1]\n",
        "fb_camapign_id = data [:,2]\n",
        "interest = data[:,5]\n",
        "impression = data[:,6]\n",
        "gender = data_str[:,4]\n",
        "id = data[:,0]\n",
        "tot_conversion = data[:,9]\n",
        "approved_conversion = data[:,10]\n",
        "id_standout_puchase = int(id[list(id).index(id[purchase== purchase_max])])\n",
        "xyz_campany_standout_purchase = int(xyz_campany_id[list(id).index(id[purchase== purchase_max])])\n",
        "fb_campaign_id_standout_purchase = int(fb_camapign_id[list(id).index(id[purchase== purchase_max])])\n",
        "age_standout_purchase= age[list(id).index(id[list(id).index(id[purchase== purchase_max])])]\n",
        "gender_standout_purchase = gender[list(id).index(id[purchase== purchase_max])]\n",
        "spent_on_standout_purchase = amount_spent[list(id).index(id[purchase== purchase_max])]\n",
        "clicks_standout_purchase = int(number_clicks[list(id).index(id[purchase== purchase_max])])\n",
        "interest_standout_purchase = int(interest[list(id).index(id[purchase== purchase_max])])\n",
        "impressions_standout_purchase = int(impression[list(id).index(id[purchase== purchase_max])])\n",
        "total_conv_standout_purchase = int(tot_conversion[list(id).index(id[purchase== purchase_max])])\n",
        "approved_conv_standout_purchase = int(approved_conversion[list(id).index(id[purchase== purchase_max])])\n",
        "print(\"---------------------------------------------------\")\n",
        "print(\"id of product having maximum number of purchase:\", id_standout_puchase)\n",
        "print(\"---------------------------------------------------\")\n",
        "print(\"xyz_company_id of product having maximum number of purchase:\", xyz_campany_standout_purchase)\n",
        "print(\"---------------------------------------------------\")\n",
        "print(\"fb_campaign_id of product having maximum number of purchase:\", fb_campaign_id_standout_purchase)\n",
        "print(\"---------------------------------------------------\")\n",
        "print(\"age of product having maximum number of purchase:\", age_standout_purchase)\n",
        "print(\"---------------------------------------------------\")\n",
        "print(\"gender of product having maximum number of purchase:\", gender_standout_purchase)\n",
        "print(\"---------------------------------------------------\")\n",
        "print(\"amount spent on product having maximum number of purchase:\", spent_on_standout_purchase)\n",
        "print(\"---------------------------------------------------\")\n",
        "print(\"number of clicks of having maximum number of purchase:\", clicks_standout_purchase)\n",
        "print(\"---------------------------------------------------\")\n",
        "print(\"interested groups of product having maximum number of purchase:\", interest_standout_purchase)\n",
        "print(\"---------------------------------------------------\")\n",
        "print(\"impressions of product having maximum number of purchase:\", impressions_standout_purchase)\n",
        "print(\"---------------------------------------------------\")\n",
        "print(\"total conversion of product having maximum number of purchase:\", total_conv_standout_purchase)\n",
        "print(\"---------------------------------------------------\")\n",
        "print(\"approved conversion of product having maximum number of purchase:\", approved_conv_standout_purchase)"
      ],
      "metadata": {
        "colab": {
          "base_uri": "https://localhost:8080/"
        },
        "id": "4_sdyBR_sU0X",
        "outputId": "cd707278-fd08-4db8-fe65-98e458365b7c"
      },
      "execution_count": 115,
      "outputs": [
        {
          "output_type": "stream",
          "name": "stdout",
          "text": [
            "---------------------------------------------------\n",
            "id of product having maximum number of purchase: 1121104\n",
            "---------------------------------------------------\n",
            "xyz_company_id of product having maximum number of purchase: 1178\n",
            "---------------------------------------------------\n",
            "fb_campaign_id of product having maximum number of purchase: 144533\n",
            "---------------------------------------------------\n",
            "age of product having maximum number of purchase: 30-34\n",
            "---------------------------------------------------\n",
            "gender of product having maximum number of purchase: M\n",
            "---------------------------------------------------\n",
            "amount spent on product having maximum number of purchase: 360.1500015\n",
            "---------------------------------------------------\n",
            "number of clicks of having maximum number of purchase: 202\n",
            "---------------------------------------------------\n",
            "interested groups of product having maximum number of purchase: 16\n",
            "---------------------------------------------------\n",
            "impressions of product having maximum number of purchase: 2080666\n",
            "---------------------------------------------------\n",
            "total conversion of product having maximum number of purchase: 40\n",
            "---------------------------------------------------\n",
            "approved conversion of product having maximum number of purchase: 21\n"
          ]
        }
      ]
    }
  ]
}